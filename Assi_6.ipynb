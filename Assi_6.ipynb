{
  "nbformat": 4,
  "nbformat_minor": 0,
  "metadata": {
    "colab": {
      "provenance": []
    },
    "kernelspec": {
      "name": "python3",
      "display_name": "Python 3"
    },
    "language_info": {
      "name": "python"
    }
  },
  "cells": [
    {
      "cell_type": "code",
      "execution_count": 1,
      "metadata": {
        "colab": {
          "base_uri": "https://localhost:8080/"
        },
        "id": "KqPpGg6YfjRw",
        "outputId": "622cb8b4-2df9-43c5-991c-e193e724cee4"
      },
      "outputs": [
        {
          "output_type": "stream",
          "name": "stdout",
          "text": [
            "Enter the volume of H2S04 required in ml:30\n",
            "Enter the value of sample in litres:.2\n",
            "Alkalinity Removed:  30.0 'mg\n",
            "Total Alkalinity: 150.0 mg/lit\n",
            "Enter the value of OH-Alkalinity present : 5\n",
            "Enter the volume of H2S04 required in ml :11\n",
            "Alkalinity Removed:  11.0 mg\n",
            "Carbonate Alkalinity upto pH8.3: 55.0 mgperlit\n",
            "Carbonate Alkalinity: 50.0 'mg/lit\n",
            "Bicarbonate Alkalinity: 45.0 mg/it\n"
          ]
        }
      ],
      "source": [
        "# To determine alkalinity of given sample\n",
        "H2S04_reg = float(input(\"Enter the volume of H2S04 required in ml:\"))\n",
        "Sample = float(input(\"Enter the value of sample in litres:\"))\n",
        "Alkalinity_Removed = H2S04_reg\n",
        "print(\"Alkalinity Removed: \", Alkalinity_Removed, \"'mg\")\n",
        "Alk_mgperlit = Alkalinity_Removed / Sample\n",
        "print(\"Total Alkalinity:\", Alk_mgperlit, \"mg/lit\")\n",
        "OH= float (input(\"Enter the value of OH-Alkalinity present : \"))\n",
        "#Alkalinity removed till pH of 8.3\n",
        "H2S04_req = float (input(\"Enter the volume of H2S04 required in ml :\"))\n",
        "Alkalinity_Removed = H2S04_req\n",
        "print(\"Alkalinity Removed: \",Alkalinity_Removed, \"mg\")\n",
        "CO3_Combined = Alkalinity_Removed/Sample\n",
        "print (\"Carbonate Alkalinity upto pH8.3:\",CO3_Combined, \"mgperlit\" )\n",
        "CO3 = CO3_Combined - OH\n",
        "print(\"Carbonate Alkalinity:\", CO3,\"'mg/lit\")\n",
        "HCO3 = Alk_mgperlit - 2*CO3 - OH\n",
        "print(\"Bicarbonate Alkalinity:\", HCO3, \"mg/it\")"
      ]
    }
  ]
}