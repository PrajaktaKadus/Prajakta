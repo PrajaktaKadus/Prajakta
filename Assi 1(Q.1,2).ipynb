{
  "nbformat": 4,
  "nbformat_minor": 0,
  "metadata": {
    "colab": {
      "provenance": [],
      "authorship_tag": "ABX9TyNs5RC0Fu3LJsTja9EJMEXc",
      "include_colab_link": true
    },
    "kernelspec": {
      "name": "python3",
      "display_name": "Python 3"
    },
    "language_info": {
      "name": "python"
    }
  },
  "cells": [
    {
      "cell_type": "markdown",
      "metadata": {
        "id": "view-in-github",
        "colab_type": "text"
      },
      "source": [
        "<a href=\"https://colab.research.google.com/github/PrajaktaKadus/Prajakta/blob/main/Assi%201(Q.1%2C2).ipynb\" target=\"_parent\"><img src=\"https://colab.research.google.com/assets/colab-badge.svg\" alt=\"Open In Colab\"/></a>"
      ]
    },
    {
      "cell_type": "markdown",
      "source": [
        "A rectangular channel 3.5 m wide and conveys a discharge of 15 m's at\n",
        "a depth of 2 m. It is proposed to reduce the width of channel at a\n",
        "hydraulic structure location. Assuming the transition to be horizontal and\n",
        "flow to be frictionless. Determine the water surface elevation at upstream\n",
        "and downstream cf this constriction when the contracted width becomes\n",
        "2.5 m."
      ],
      "metadata": {
        "id": "iR3T27NZTe41"
      }
    },
    {
      "cell_type": "code",
      "source": [
        "3# To find the downstream depth of open channel\n",
        "#Given Data\n",
        "Q=float(input(\"Enter the value of Discharge:\")) # Fixed typo in input function and removed unintended indentation\n",
        "B1 = float(input(\"Enter the value of width at upstream: \"))\n",
        "B2 = float(input(\"Enter the value of width at downstream: \"))\n",
        "g= float(input(\"Enter the value of acceleration due to Gravity:\"))\n",
        "y1= float(input(\"enter the value of upstream depth:\")) # Added definition for y1\n",
        "# Dicharge per meter width\n",
        "ql=Q/B1\n",
        "q2= Q/B2\n",
        "print (\"The value of discharge per meter width is:'\", ql) # Changed q1 to ql\n",
        "print (\"The value of discharge per meter width is:\", q2)\n",
        "# Area Calculation\n",
        "A1 = B1*y1\n",
        "print (\"The value of upstream area is:\", A1)\n",
        "# Calculation of Froude Number\n",
        "Fr1 = ((Q*Q*B1)/(g*A1*A1*A1)) **0.5\n",
        "print (\"The value of Froude number is:\", Fr1)\n",
        "if Fr1>1:\n",
        "    print(\"The flow is Super Critical Flow\") # Added indentation here\n",
        "else:\n",
        "    print(\"The flow is Sub Critical Flow\") # Added indentation here\n",
        "# Upstream Energy\n",
        "E1 = y1 + (Q*0)/(2*g*A1*A1) # Changed 'e' to 'g' for acceleration due to gravity\n",
        "print (\"The value of Energy at initial Section is:\", E1) # Changed 'El' to 'E1'\n",
        "# (type alias) B2min: Any dition\n",
        "B2min = (27*Q*Q/(8*g*E1*E1*E1)) **0.5\n",
        "print (\"The value of minimum width to be kept to avoid Chocking is:\", B2min)\n",
        "if B2min > B2:\n",
        "    print (\"Chocking Condition\") # Added indentation here\n",
        "else:\n",
        "    print (\"SAFE\") # Added indentation here\n",
        "# Critical Depth\n",
        "yc = (Q*Q)/(B2*82*g) **0.3333 # Removed extra parenthesis here and changed 'e' to 'g'\n",
        "print (\"The Value of critical depth is: \", yc)\n",
        "Ec = 1.5*yc # Changed comma to period for float multiplication\n",
        "print (\"The value of critical Energy is\", Ec)"
      ],
      "metadata": {
        "colab": {
          "base_uri": "https://localhost:8080/"
        },
        "id": "8-4YS2QcTxk9",
        "outputId": "cdca5e0d-01b9-46af-bcd3-9f3b79e3e40c"
      },
      "execution_count": 2,
      "outputs": [
        {
          "output_type": "stream",
          "name": "stdout",
          "text": [
            "Enter the value of Discharge:35\n",
            "Enter the value of width at upstream: 3.5\n",
            "Enter the value of width at downstream: 2.5\n",
            "Enter the value of acceleration due to Gravity:9.81\n",
            "enter the value of upstream depth:2\n",
            "The value of discharge per meter width is:' 10.0\n",
            "The value of discharge per meter width is: 14.0\n",
            "The value of upstream area is: 7.0\n",
            "The value of Froude number is: 1.1288091024643272\n",
            "The flow is Super Critical Flow\n",
            "The value of Energy at initial Section is: 2.0\n",
            "The value of minimum width to be kept to avoid Chocking is: 7.25814158487247\n",
            "Chocking Condition\n",
            "The Value of critical depth is:  97.07451885196038\n",
            "The value of critical Energy is 145.61177827794057\n"
          ]
        }
      ]
    },
    {
      "cell_type": "markdown",
      "source": [
        "Design a most efficient trapezoidal channel for conveying discharge of 100 m '/s, given that rugosity coefficient is 0.015 and channel bed slope 1:2500. Assume the freeboard of 10% of depth of flow. Also compute the Froude number"
      ],
      "metadata": {
        "id": "pdh5scTlUQkJ"
      }
    },
    {
      "cell_type": "code",
      "source": [
        "#Design of Efficient Channel Section\n",
        "Q=float(input(\"Enter the value of Discharge:\"))\n",
        "n=float(input(\"Enter the value of Rugosity coefficient:\"))\n",
        "So=float(input(\"Enter the value of bed slope:\"))\n",
        "g= float(input(\"Enter the value of acceleration due to Gravity:\"))\n",
        "#Manning's Formula\n",
        "#Q = (AR^2/3 S^1/2)/n\n",
        "yn = (Q*n*50* 1.591)/(1.732)**(3/8) #fixed variable name from yn() to yn\n",
        "print (\"The Value of yn is\", yn)\n",
        "#To encounter the effect of free board\n",
        "yn1= 1.1*yn\n",
        "print (\"The Value of ynl is\", yn1)\n",
        "# Cross Sectional Area\n",
        "A = 1.732*yn*yn1 #added the multiplication operator between 1.732 and yn\n",
        "print (\"The cross sectional Area is:\", A)\n",
        "# Top Width\n",
        "T= 4* yn/1.732\n",
        "print (\"The value of top Width is:\", T)\n",
        "# Bottom Width\n",
        "B=2*yn/1.732 #added the multiplication operator between 2 and yn, fixed variable name from 8 to B\n",
        "print (\"The value of Bottom Width is'\", B)\n",
        "Fr= ((Q*Q)/(g*A*A*A)) * 0.5 # I'm assuming you meant to use Q twice here, as QT is not defined\n",
        "print (\"The value of Froude number is:\", Fr)\n",
        "if Fr>1.5:\n",
        "    print(\"The flow is Super Critical Flow\") #indented this line\n",
        "else:\n",
        "    print(\"The flow is Sub Critical Flow\") #indented this line"
      ],
      "metadata": {
        "colab": {
          "base_uri": "https://localhost:8080/"
        },
        "id": "3TsOPqfxUYQO",
        "outputId": "a1d4ec94-d434-4dec-906b-9e446ab232cd"
      },
      "execution_count": 3,
      "outputs": [
        {
          "output_type": "stream",
          "name": "stdout",
          "text": [
            "Enter the value of Discharge:100\n",
            "Enter the value of Rugosity coefficient:0.015\n",
            "Enter the value of bed slope:0.004\n",
            "Enter the value of acceleration due to Gravity:0.004\n",
            "The Value of yn is 97.11269022539724\n",
            "The Value of ynl is 106.82395924793698\n",
            "The cross sectional Area is: 17967.70229328117\n",
            "The value of top Width is: 224.27873031269573\n",
            "The value of Bottom Width is' 112.13936515634786\n",
            "The value of Froude number is: 2.154926111297322e-07\n",
            "The flow is Sub Critical Flow\n"
          ]
        }
      ]
    }
  ]
}