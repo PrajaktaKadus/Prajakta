{
  "nbformat": 4,
  "nbformat_minor": 0,
  "metadata": {
    "colab": {
      "provenance": []
    },
    "kernelspec": {
      "name": "python3",
      "display_name": "Python 3"
    },
    "language_info": {
      "name": "python"
    }
  },
  "cells": [
    {
      "cell_type": "markdown",
      "source": [
        "A rectangular channel 3.5 m wide and conveys a discharge of 15 m's at\n",
        "a depth of 2 m. It is proposed to reduce the width of channel at a\n",
        "hydraulic structure location. Assuming the transition to be horizontal and\n",
        "flow to be frictionless. Determine the water surface elevation at upstream\n",
        "and downstream cf this constriction when the contracted width becomes\n",
        "2.5 m."
      ],
      "metadata": {
        "id": "7wNxtz_LOtmp"
      }
    },
    {
      "cell_type": "code",
      "source": [
        "3# To find the downstream depth of open channel\n",
        "#Given Data\n",
        "Q=float(input(\"Enter the value of Discharge:\")) # Fixed typo in input function and removed unintended indentation\n",
        "B1 = float(input(\"Enter the value of width at upstream: \"))\n",
        "B2 = float(input(\"Enter the value of width at downstream: \"))\n",
        "g= float(input(\"Enter the value of acceleration due to Gravity:\"))\n",
        "y1= float(input(\"enter the value of upstream depth:\")) # Added definition for y1\n",
        "# Dicharge per meter width\n",
        "ql=Q/B1\n",
        "q2= Q/B2\n",
        "print (\"The value of discharge per meter width is:'\", ql) # Changed q1 to ql\n",
        "print (\"The value of discharge per meter width is:\", q2)\n",
        "# Area Calculation\n",
        "A1 = B1*y1\n",
        "print (\"The value of upstream area is:\", A1)\n",
        "# Calculation of Froude Number\n",
        "Fr1 = ((Q*Q*B1)/(g*A1*A1*A1)) **0.5\n",
        "print (\"The value of Froude number is:\", Fr1)\n",
        "if Fr1>1:\n",
        "    print(\"The flow is Super Critical Flow\") # Added indentation here\n",
        "else:\n",
        "    print(\"The flow is Sub Critical Flow\") # Added indentation here\n",
        "# Upstream Energy\n",
        "E1 = y1 + (Q*0)/(2*g*A1*A1) # Changed 'e' to 'g' for acceleration due to gravity\n",
        "print (\"The value of Energy at initial Section is:\", E1) # Changed 'El' to 'E1'\n",
        "# (type alias) B2min: Any dition\n",
        "B2min = (27*Q*Q/(8*g*E1*E1*E1)) **0.5\n",
        "print (\"The value of minimum width to be kept to avoid Chocking is:\", B2min)\n",
        "if B2min > B2:\n",
        "    print (\"Chocking Condition\") # Added indentation here\n",
        "else:\n",
        "    print (\"SAFE\") # Added indentation here\n",
        "# Critical Depth\n",
        "yc = (Q*Q)/(B2*82*g) **0.3333 # Removed extra parenthesis here and changed 'e' to 'g'\n",
        "print (\"The Value of critical depth is: \", yc)\n",
        "Ec = 1.5*yc # Changed comma to period for float multiplication\n",
        "print (\"The value of critical Energy is\", Ec)"
      ],
      "metadata": {
        "colab": {
          "base_uri": "https://localhost:8080/"
        },
        "id": "rEdDBFWUQjbQ",
        "outputId": "5dc79d25-1c1c-4dd1-85c3-c88eff902b91"
      },
      "execution_count": 3,
      "outputs": [
        {
          "output_type": "stream",
          "name": "stdout",
          "text": [
            "Enter the value of Discharge:15\n",
            "Enter the value of width at upstream: 3.5\n",
            "Enter the value of width at downstream: 2.5\n",
            "Enter the value of acceleration due to Gravity:9.81\n",
            "enter the value of upstream depth:2\n",
            "The value of discharge per meter width is:' 4.285714285714286\n",
            "The value of discharge per meter width is: 6.0\n",
            "The value of upstream area is: 7.0\n",
            "The value of Froude number is: 0.4837753296275688\n",
            "The flow is Sub Critical Flow\n",
            "The value of Energy at initial Section is: 2.0\n",
            "The value of minimum width to be kept to avoid Chocking is: 3.110632107802487\n",
            "Chocking Condition\n",
            "The Value of critical depth is:  17.8300136666866\n",
            "The value of critical Energy is 26.745020500029902\n"
          ]
        }
      ]
    },
    {
      "cell_type": "markdown",
      "source": [
        "Design a most efficient trapezoidal channel for conveying discharge of\n",
        "100 m '/s, given that rugosity coefficient is 0.015 and channel bed slope\n",
        "1:2500. Assume the freeboard of 10% of depth of flow. Also compute the\n",
        "Froude number"
      ],
      "metadata": {
        "id": "6pVGgvD-QgRn"
      }
    },
    {
      "cell_type": "code",
      "source": [
        "#Design of Efficient Channel Section\n",
        "Q=float(input(\"Enter the value of Discharge:\"))\n",
        "n=float(input(\"Enter the value of Rugosity coefficient:\"))\n",
        "So=float(input(\"Enter the value of bed slope:\"))\n",
        "g= float(input(\"Enter the value of acceleration due to Gravity:\"))\n",
        "#Manning's Formula\n",
        "#Q = (AR^2/3 S^1/2)/n\n",
        "yn = (Q*n*50* 1.591)/(1.732)**(3/8) #fixed variable name from yn() to yn\n",
        "print (\"The Value of yn is\", yn)\n",
        "#To encounter the effect of free board\n",
        "yn1= 1.1*yn\n",
        "print (\"The Value of ynl is\", yn1)\n",
        "# Cross Sectional Area\n",
        "A = 1.732*yn*yn1 #added the multiplication operator between 1.732 and yn\n",
        "print (\"The cross sectional Area is:\", A)\n",
        "# Top Width\n",
        "T= 4* yn/1.732\n",
        "print (\"The value of top Width is:\", T)\n",
        "# Bottom Width\n",
        "B=2*yn/1.732 #added the multiplication operator between 2 and yn, fixed variable name from 8 to B\n",
        "print (\"The value of Bottom Width is'\", B)\n",
        "Fr= ((Q*Q)/(g*A*A*A)) * 0.5 # I'm assuming you meant to use Q twice here, as QT is not defined\n",
        "print (\"The value of Froude number is:\", Fr)\n",
        "if Fr>1.5:\n",
        "    print(\"The flow is Super Critical Flow\") #indented this line\n",
        "else:\n",
        "    print(\"The flow is Sub Critical Flow\") #indented this line"
      ],
      "metadata": {
        "colab": {
          "base_uri": "https://localhost:8080/"
        },
        "id": "PyqZLVaKO7qA",
        "outputId": "c1515cd6-08e2-4671-e731-e8c223043a50"
      },
      "execution_count": 4,
      "outputs": [
        {
          "output_type": "stream",
          "name": "stdout",
          "text": [
            "Enter the value of Discharge:100\n",
            "Enter the value of Rugosity coefficient:0.015\n",
            "Enter the value of bed slope:0.004\n",
            "Enter the value of acceleration due to Gravity:9.81\n",
            "The Value of yn is 97.11269022539724\n",
            "The Value of ynl is 106.82395924793698\n",
            "The cross sectional Area is: 17967.70229328117\n",
            "The value of top Width is: 224.27873031269573\n",
            "The value of Bottom Width is' 112.13936515634786\n",
            "The value of Froude number is: 8.786650810590506e-11\n",
            "The flow is Sub Critical Flow\n"
          ]
        }
      ]
    }
  ]
}