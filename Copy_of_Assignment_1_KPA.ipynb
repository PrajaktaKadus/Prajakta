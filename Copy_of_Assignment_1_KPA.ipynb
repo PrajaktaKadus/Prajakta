{
  "nbformat": 4,
  "nbformat_minor": 0,
  "metadata": {
    "colab": {
      "provenance": []
    },
    "kernelspec": {
      "name": "python3",
      "display_name": "Python 3"
    },
    "language_info": {
      "name": "python"
    }
  },
  "cells": [
    {
      "cell_type": "markdown",
      "source": [
        "A rectangular channel of width 2 m and carry a discharge of 4.8 m'/s with\n",
        "a depth of 1.6 m. At a certain section a small hump of size 0.l m is\n",
        "proposed to build.\n",
        "a. Calculate the likely change in the water surface elevation.\n",
        "b. In the above question if the hump of height made equal to 0.5 m. find out\n",
        "the upstream and downstream depth of flow.\n",
        "C. Also calculate the maximum value of AZ i.e. maximum rise in bed level\n",
        "possible without changing the upstream condition."
      ],
      "metadata": {
        "id": "H0A28ma0LVAK"
      }
    },
    {
      "cell_type": "code",
      "source": [
        "# To find the downstream depth of open channel\n",
        "# Given Data\n",
        "Q = float (input(\"Enter the value of Discharge:\")) # Removed unexpected indent\n",
        "T= int(input(\"Enter the value of top width:\"))\n",
        "g=float(input(\"Enter the value of acceleration due to Gravity:\"))\n",
        "y1 = float(input(\"enter the value of upstream depth:\"))\n",
        "Z= float(input(\"Enter the Value of hump:\"))\n",
        "# Dicharge per meter width\n",
        "q=Q/T\n",
        "print (\"The value of discharge per meter width is:\", q)\n",
        "# Area Calculation\n",
        "A1= T*y1\n",
        "print (\"The value of upstream area is:\", A1)\n",
        "# Calculation of Froude Number\n",
        "Fr1 = (Q*Q*T)/(g*A1* A1 *A1)*0.5 # Removed extra multiplication operator\n",
        "print (\"The value of Froude number is:\", Fr1)\n",
        "if Fr1>1:\n",
        "    print(\"The flow is Super Critical Flow\") # Added indentation\n",
        "else:\n",
        "    print(\"The flow is Sub Critical Flow\") # Added indentation\n",
        "#Upstream Energy\n",
        "E1 = y1 + (Q*Q)/(2 *g*A1 *A1)\n",
        "print (\"The value of Energy at initial Section is:\", E1)\n",
        "# Downstream Energy\n",
        "E2 = E1 -Z\n",
        "print (\"The value of downstream Energy E2 is:\", E2)\n",
        "# Critical Depth\n",
        "a=1\n",
        "e=1\n",
        "yc= (q*a/e)*0.3333 # 'a' and 'e' variables are not defined. You'll need to provide values for these.\n",
        "print (\"The Value of critical depth is:\", yc)\n",
        "Ec = 1.5*yc # Replaced comma with a period for float multiplication\n",
        "print (\"The value of critical Energy is\", Ec)\n",
        "if Ec>E2:\n",
        "    print (\"Chocking Conditlon\") # Added indentation\n",
        "else:\n",
        "    print (\"SAFE\") # Added indentation\n",
        "# Calculation of Zmax\n",
        "Zmax =E1- Ec # Changed 'El' to 'E1' assuming it was a typo\n",
        "print (\"The value of maxinmum hump is:\", Zmax)"
      ],
      "metadata": {
        "colab": {
          "base_uri": "https://localhost:8080/"
        },
        "id": "0ZuFHJin7Nks",
        "outputId": "fa3727b4-39ac-4bd9-f629-0ce06643e8f7"
      },
      "execution_count": null,
      "outputs": [
        {
          "output_type": "stream",
          "name": "stdout",
          "text": [
            "Enter the value of Discharge:4.8\n",
            "Enter the value of top width:2\n",
            "Enter the value of acceleration due to Gravity:9.81\n",
            "enter the value of upstream depth:1.6\n",
            "Enter the Value of hump:0.5\n",
            "The value of discharge per meter width is: 2.4\n",
            "The value of upstream area is: 3.2\n",
            "The value of Froude number is: 0.07167431192660548\n",
            "The flow is Sub Critical Flow\n",
            "The value of Energy at initial Section is: 1.714678899082569\n",
            "The value of downstream Energy E2 is: 1.214678899082569\n",
            "The Value of critical depth is: 0.79992\n",
            "The value of critical Energy is 1.1998799999999998\n",
            "SAFE\n",
            "The value of maxinmum hump is: 0.5147988990825692\n"
          ]
        }
      ]
    }
  ]
}