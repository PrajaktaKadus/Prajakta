{
  "nbformat": 4,
  "nbformat_minor": 0,
  "metadata": {
    "colab": {
      "provenance": []
    },
    "kernelspec": {
      "name": "python3",
      "display_name": "Python 3"
    },
    "language_info": {
      "name": "python"
    }
  },
  "cells": [
    {
      "cell_type": "markdown",
      "source": [
        "For a drainage basin of 640 km, isohetals based on a storm event yield\n",
        "the following data: calculate the mean precipitation.\n"
      ],
      "metadata": {
        "id": "xjhJxa9WGzrW"
      }
    },
    {
      "cell_type": "code",
      "source": [
        "#Calculation of Mean precipitation by theissen's polygon Method\n",
        "#The value of precipitation at Each station is\n",
        "p1=int(input(\"Enter the value of rainfall at Station 1:\"))\n",
        "p2= int(input(\"Enter the value of rainfall at Station 2:\"))\n",
        "p3 =int(input(\"Enter the value of rainfall at Station 3:\"))\n",
        "p4 =int(input(\"Enter the value of rainfall at Station 4:\"))\n",
        "p5 =int(input(\"Enter the value of rainfall at Station 5:\"))\n",
        "#Area for each station\n",
        "A1= int(input(\"Enter the value of Catchment Area for raingauge station 1:\"))\n",
        "A2= int(input(\"Enter the value of Catchment Area for raingauge station 2:\"))\n",
        "A3 =int(input(\"Enter the value of Catchment Area for raingauge station 3:\"))\n",
        "A4=int(input(\"Enter the value of Catchment Area for raingauge station 4:\"))\n",
        "A5= int(input(\"Enter the value of Catchment Area for raingauge station 5:\"))\n",
        "#The total catchment area is\n",
        "A=A1 + A2 + A3 + A4+ A5\n",
        "print (\"The value of Total Catchment area is:\", A)\n",
        "# Runoff Volume\n",
        "#The volume shall be multiplied by the coefficient 2500 to cater scale effects1\n",
        "#Runoff Volume\n",
        "V= (p1* A1+ p2* A2+ p3* A3+ p4 *A4+p5* A5)*2500\n",
        "print (\"The runoff volume from the given catchment is:\", V)\n",
        "# Mean Precipitation\n",
        "p=(p1*A1+p2*A2+p3*A3+p4*A4+p5*A5)/A\n",
        "print (\"The value of Mean Precipitalon is:\", p)"
      ],
      "metadata": {
        "id": "EMeaHJOEHzfm",
        "colab": {
          "base_uri": "https://localhost:8080/",
          "height": 0
        },
        "outputId": "44b985ed-c851-4355-a83d-fb4345186b5e"
      },
      "execution_count": 1,
      "outputs": [
        {
          "output_type": "stream",
          "name": "stdout",
          "text": [
            "Enter the value of rainfall at Station 1:125\n",
            "Enter the value of rainfall at Station 2:175\n",
            "Enter the value of rainfall at Station 3:225\n",
            "Enter the value of rainfall at Station 4:275\n",
            "Enter the value of rainfall at Station 5:325\n",
            "Enter the value of Catchment Area for raingauge station 1:25\n",
            "Enter the value of Catchment Area for raingauge station 2:30\n",
            "Enter the value of Catchment Area for raingauge station 3:30\n",
            "Enter the value of Catchment Area for raingauge station 4:10\n",
            "Enter the value of Catchment Area for raingauge station 5:5\n",
            "The value of Total Catchment area is: 100\n",
            "The runoff volume from the given catchment is: 48750000\n",
            "The value of Mean Precipitalon is: 195.0\n"
          ]
        }
      ]
    },
    {
      "cell_type": "markdown",
      "source": [],
      "metadata": {
        "id": "A5kDUrctJT3J"
      }
    },
    {
      "cell_type": "markdown",
      "source": [
        "Que.2"
      ],
      "metadata": {
        "id": "V0nZ2c-dJ8D6"
      }
    },
    {
      "cell_type": "code",
      "source": [
        "# Calculation of total Infiltration by Horton's Equation\n",
        "fo = float(input(\"Enter the value of initial Infiltration Rate:6\"))\n",
        "fc= float (input(\"Enter the value of Final infiltration Rate:1.2\"))\n",
        "t= int(input(\"Enter the value of Time:8\"))\n",
        "kh= float(input(\"Enter the value of Decay Coefficient:0.888\"))\n",
        "# The total Infiltration is given by:\n",
        "fc = 10  # Replace with actual value of fc\n",
        "fo = 20  # Replace with actual value of fo\n",
        "# Calculation of total Infiltration by Horton's Equation\n",
        "fo = float(input(\"Enter the value of initial Infiltration Rate:6\"))\n",
        "fc= float (input(\"Enter the value of Final infiltration Rate:1.2\"))\n",
        "t= int(input(\"Enter the value of Time:8\"))\n",
        "kh= float(input(\"Enter the value of Decay Coefficient:0.888\"))\n",
        "# The total Infiltration is given by:\n",
        "fc = 10  # Replace with actual value of fc\n",
        "fo = 20  # Replace with actual value of fo\n",
        "t = 30   # Replace with actual value of t\n",
        "Fp= fc * t + (fo -fc)/kh\n",
        "print (\"The value of Total Infiltration is:\", Fp)"
      ],
      "metadata": {
        "id": "8UFE-y6yJ8Yj",
        "colab": {
          "base_uri": "https://localhost:8080/",
          "height": 0
        },
        "outputId": "de48b29c-d8a6-4f7f-ea12-38a716ad9658"
      },
      "execution_count": 5,
      "outputs": [
        {
          "output_type": "stream",
          "name": "stdout",
          "text": [
            "Enter the value of initial Infiltration Rate:66\n",
            "Enter the value of Final infiltration Rate:1.21.2\n",
            "Enter the value of Time:88\n",
            "Enter the value of Decay Coefficient:0.8880.888\n",
            "Enter the value of initial Infiltration Rate:66\n",
            "Enter the value of Final infiltration Rate:1.21.2\n",
            "Enter the value of Time:88\n",
            "Enter the value of Decay Coefficient:0.8880.888\n",
            "The value of Total Infiltration is: 311.26126126126127\n"
          ]
        }
      ]
    },
    {
      "cell_type": "markdown",
      "source": [
        "Que"
      ],
      "metadata": {
        "id": "aMBcR6YVKIbw"
      }
    },
    {
      "cell_type": "code",
      "source": [
        "#Calculation of Mean precipitation by Isohytel Method\n",
        "#The value of precipitation at Each station i\n",
        "p1=int(input(\"Enter the value of rainfall at Station 1:14\"))\n",
        "D2= int(input(\"Enter the value of rainfall at Station 2:12\"))\n",
        "D3=int(input(\"Enter the value of rainfall at Station 3:10\"))\n",
        "p4=int(input(\"Enter the value of rainfall at Station 4:8\"))\n",
        "p5= int(input(\"Enter the value of rainfall at Station 5:6\"))\n",
        "p6=int(input(\"Enter the value of rainfall at Station 6:4\"))\n",
        "p7= int(input(\"Enter the value of rainfall at Station 7:2\"))\n",
        "p8=int(input(\"Enter the value of rainfall at Station 8:0\"))\n",
        "# Area for each station\n",
        "A1= int(input(\"Enter the value of Catchment Area for raingage station 1:90\"))\n",
        "A2= int(input(\"Enter the value of Catchment Area for raingauge station 2:140\"))\n",
        "A3= int(input(\"Enter the value of Catchment Area for raingauge station 3:125\"))\n",
        "A4= int(input(\"Enter the value of Catchnent Area for reingauge station 4:140\"))\n",
        "A5= int(input(\" Enter the value of Catchment Ares for raingauge station 5:85\"))\n",
        "A6= int(input(\"Enter the value of Catchment Area for raingeuge station 6:40\"))\n",
        "A7= int(input(\"Enter the value of Catchment Area for reingauge station 7:20\"))\n",
        "# The total catchment area is\n",
        "A= A1+ A2+ A3+ A4+ A5+ A6+ A7\n",
        "print (\"The value of Total Catchment area is :\",A)\n",
        "# Mean Precipitation\n",
        "p=((p1+p2) *A1/2 + (p2+p3)*A2/2+ (p3+p4)*A3/2+ (p4+p5)* A4/2 + (p5+p6)*A5/2 + (p6+p7)*A6/2\n",
        "+ (p7+p8)*A7/2)/A\n",
        "print (\"the value of Mean Precipitalon is:\", p)"
      ],
      "metadata": {
        "id": "1kTWwmdUKI2A",
        "colab": {
          "base_uri": "https://localhost:8080/",
          "height": 0
        },
        "outputId": "512b4c3f-50a3-48ee-cc04-92a3a2d52702"
      },
      "execution_count": 6,
      "outputs": [
        {
          "output_type": "stream",
          "name": "stdout",
          "text": [
            "Enter the value of rainfall at Station 1:1414\n",
            "Enter the value of rainfall at Station 2:1212\n",
            "Enter the value of rainfall at Station 3:1010\n",
            "Enter the value of rainfall at Station 4:88\n",
            "Enter the value of rainfall at Station 5:66\n",
            "Enter the value of rainfall at Station 6:44\n",
            "Enter the value of rainfall at Station 7:22\n",
            "Enter the value of rainfall at Station 8:00\n",
            "Enter the value of Catchment Area for raingage station 1:9090\n",
            "Enter the value of Catchment Area for raingauge station 2:140140\n",
            "Enter the value of Catchment Area for raingauge station 3:125125\n",
            "Enter the value of Catchnent Area for reingauge station 4:140140\n",
            " Enter the value of Catchment Ares for raingauge station 5:8585\n",
            "Enter the value of Catchment Area for raingeuge station 6:4040\n",
            "Enter the value of Catchment Area for reingauge station 7:2020\n",
            "The value of Total Catchment area is : 640\n",
            "the value of Mean Precipitalon is: 82.20703125\n"
          ]
        }
      ]
    }
  ]
}